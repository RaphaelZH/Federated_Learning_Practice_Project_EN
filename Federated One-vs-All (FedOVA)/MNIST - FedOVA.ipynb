{
 "cells": [
  {
   "cell_type": "code",
   "execution_count": 1,
   "metadata": {},
   "outputs": [],
   "source": [
    "import torch\n",
    "import torch.nn as nn\n",
    "import torch.nn.functional as F\n",
    "import torch.optim as optim\n",
    "from torch.utils.data import DataLoader, TensorDataset\n",
    "\n",
    "from torchsummary import summary\n",
    "\n",
    "from torchvision import datasets, transforms"
   ]
  },
  {
   "cell_type": "code",
   "execution_count": 2,
   "metadata": {
    "colab": {
     "base_uri": "https://localhost:8080/"
    },
    "outputId": "f10b649f-3cee-4e86-c7ff-94bd1fd3e082"
   },
   "outputs": [],
   "source": [
    "from copy import deepcopy\n",
    "\n",
    "import numpy as np\n",
    "import pandas as pd\n",
    "\n",
    "from termcolor import cprint"
   ]
  },
  {
   "cell_type": "code",
   "execution_count": 3,
   "metadata": {
    "colab": {
     "base_uri": "https://localhost:8080/",
     "height": 490
    },
    "outputId": "c8d0f4c0-60cd-4c58-bc91-3b061dae8046"
   },
   "outputs": [
    {
     "data": {
      "text/plain": [
       "torch.Size([1, 28, 28, 60000])"
      ]
     },
     "execution_count": 3,
     "metadata": {},
     "output_type": "execute_result"
    }
   ],
   "source": [
    "data_path = \"/tmp/files/\"\n",
    "\n",
    "tensor_mnist = datasets.MNIST(\n",
    "    data_path, train=True, download=True, transform=transforms.ToTensor()\n",
    ")\n",
    "\n",
    "tensor_images = torch.stack([tensor_image for tensor_image, _ in tensor_mnist], dim=3)\n",
    "\n",
    "tensor_images.shape"
   ]
  },
  {
   "cell_type": "code",
   "execution_count": 4,
   "metadata": {},
   "outputs": [
    {
     "data": {
      "text/plain": [
       "tensor([0.1307])"
      ]
     },
     "execution_count": 4,
     "metadata": {},
     "output_type": "execute_result"
    }
   ],
   "source": [
    "tensor_mean = tensor_images.view(1, -1).mean(dim=1)\n",
    "tensor_mean"
   ]
  },
  {
   "cell_type": "code",
   "execution_count": 5,
   "metadata": {
    "colab": {
     "base_uri": "https://localhost:8080/",
     "height": 715
    },
    "outputId": "4e0988a8-388d-4acf-882b-089e4ea887bf"
   },
   "outputs": [
    {
     "data": {
      "text/plain": [
       "tensor([0.3081])"
      ]
     },
     "execution_count": 5,
     "metadata": {},
     "output_type": "execute_result"
    }
   ],
   "source": [
    "tensor_std = tensor_images.view(1, -1).std(dim=1)\n",
    "tensor_std"
   ]
  },
  {
   "cell_type": "code",
   "execution_count": 6,
   "metadata": {},
   "outputs": [],
   "source": [
    "training_dataset = datasets.MNIST(\n",
    "    \"/tmp/files/\",\n",
    "    train=True,\n",
    "    download=True,\n",
    "    transform=transforms.Compose(\n",
    "        [\n",
    "            transforms.ToTensor(),\n",
    "            transforms.Normalize(tensor_mean, tensor_std),\n",
    "        ]\n",
    "    ),\n",
    ")\n",
    "\n",
    "validation_dataset = datasets.MNIST(\n",
    "    \"/tmp/files/\",\n",
    "    train=False,\n",
    "    download=True,\n",
    "    transform=transforms.Compose(\n",
    "        [\n",
    "            transforms.ToTensor(),\n",
    "            transforms.Normalize(tensor_mean, tensor_std),\n",
    "        ]\n",
    "    ),\n",
    ")"
   ]
  },
  {
   "cell_type": "code",
   "execution_count": 7,
   "metadata": {},
   "outputs": [
    {
     "data": {
      "text/plain": [
       "(torch.Size([60000, 28, 28]), torch.Size([60000]))"
      ]
     },
     "execution_count": 7,
     "metadata": {},
     "output_type": "execute_result"
    }
   ],
   "source": [
    "training_dataset.data.shape, training_dataset.targets.shape"
   ]
  },
  {
   "cell_type": "code",
   "execution_count": 8,
   "metadata": {},
   "outputs": [
    {
     "data": {
      "text/plain": [
       "(torch.Size([28, 28]), 5)"
      ]
     },
     "execution_count": 8,
     "metadata": {},
     "output_type": "execute_result"
    }
   ],
   "source": [
    "training_dataset.data[0].shape, training_dataset.targets[0].item()"
   ]
  },
  {
   "cell_type": "code",
   "execution_count": 9,
   "metadata": {},
   "outputs": [
    {
     "data": {
      "text/html": [
       "<div>\n",
       "<style scoped>\n",
       "    .dataframe tbody tr th:only-of-type {\n",
       "        vertical-align: middle;\n",
       "    }\n",
       "\n",
       "    .dataframe tbody tr th {\n",
       "        vertical-align: top;\n",
       "    }\n",
       "\n",
       "    .dataframe thead th {\n",
       "        text-align: right;\n",
       "    }\n",
       "</style>\n",
       "<table border=\"1\" class=\"dataframe\">\n",
       "  <thead>\n",
       "    <tr style=\"text-align: right;\">\n",
       "      <th></th>\n",
       "      <th>image</th>\n",
       "      <th>label</th>\n",
       "    </tr>\n",
       "  </thead>\n",
       "  <tbody>\n",
       "    <tr>\n",
       "      <th>0</th>\n",
       "      <td>[[0, 0, 0, 0, 0, 0, 0, 0, 0, 0, 0, 0, 0, 0, 0,...</td>\n",
       "      <td>5</td>\n",
       "    </tr>\n",
       "    <tr>\n",
       "      <th>1</th>\n",
       "      <td>[[0, 0, 0, 0, 0, 0, 0, 0, 0, 0, 0, 0, 0, 0, 0,...</td>\n",
       "      <td>0</td>\n",
       "    </tr>\n",
       "    <tr>\n",
       "      <th>2</th>\n",
       "      <td>[[0, 0, 0, 0, 0, 0, 0, 0, 0, 0, 0, 0, 0, 0, 0,...</td>\n",
       "      <td>4</td>\n",
       "    </tr>\n",
       "    <tr>\n",
       "      <th>3</th>\n",
       "      <td>[[0, 0, 0, 0, 0, 0, 0, 0, 0, 0, 0, 0, 0, 0, 0,...</td>\n",
       "      <td>1</td>\n",
       "    </tr>\n",
       "    <tr>\n",
       "      <th>4</th>\n",
       "      <td>[[0, 0, 0, 0, 0, 0, 0, 0, 0, 0, 0, 0, 0, 0, 0,...</td>\n",
       "      <td>9</td>\n",
       "    </tr>\n",
       "  </tbody>\n",
       "</table>\n",
       "</div>"
      ],
      "text/plain": [
       "                                               image label\n",
       "0  [[0, 0, 0, 0, 0, 0, 0, 0, 0, 0, 0, 0, 0, 0, 0,...     5\n",
       "1  [[0, 0, 0, 0, 0, 0, 0, 0, 0, 0, 0, 0, 0, 0, 0,...     0\n",
       "2  [[0, 0, 0, 0, 0, 0, 0, 0, 0, 0, 0, 0, 0, 0, 0,...     4\n",
       "3  [[0, 0, 0, 0, 0, 0, 0, 0, 0, 0, 0, 0, 0, 0, 0,...     1\n",
       "4  [[0, 0, 0, 0, 0, 0, 0, 0, 0, 0, 0, 0, 0, 0, 0,...     9"
      ]
     },
     "execution_count": 9,
     "metadata": {},
     "output_type": "execute_result"
    }
   ],
   "source": [
    "training_df = pd.DataFrame(\n",
    "    {\n",
    "        \"image\": [training_dataset.data[i].numpy() for i in range(len(training_dataset))],\n",
    "        \"label\": training_dataset.targets.numpy().astype(str)\n",
    "    }\n",
    ")\n",
    "\n",
    "training_df.head()"
   ]
  },
  {
   "cell_type": "code",
   "execution_count": 10,
   "metadata": {},
   "outputs": [
    {
     "data": {
      "text/plain": [
       "array(['0', '1', '2', '3', '4', '5', '6', '7', '8', '9'], dtype=object)"
      ]
     },
     "execution_count": 10,
     "metadata": {},
     "output_type": "execute_result"
    }
   ],
   "source": [
    "training_df['label'].sort_values().unique()"
   ]
  },
  {
   "cell_type": "code",
   "execution_count": 11,
   "metadata": {},
   "outputs": [
    {
     "name": "stdout",
     "output_type": "stream",
     "text": [
      "\u001b[1m\u001b[32m\n",
      "Label 0 count: 5923\u001b[0m\n",
      "------------------------------------------------------------\n",
      "\u001b[35m                                               image label\n",
      "0  [[0, 0, 0, 0, 0, 0, 0, 0, 0, 0, 0, 0, 0, 0, 0,...     0\n",
      "1  [[0, 0, 0, 0, 0, 0, 0, 0, 0, 0, 0, 0, 0, 0, 0,...     1\n",
      "2  [[0, 0, 0, 0, 0, 0, 0, 0, 0, 0, 0, 0, 0, 0, 0,...     0\n",
      "3  [[0, 0, 0, 0, 0, 0, 0, 0, 0, 0, 0, 0, 0, 0, 0,...     0\n",
      "4  [[0, 0, 0, 0, 0, 0, 0, 0, 0, 0, 0, 0, 0, 0, 0,...     0\u001b[0m\n",
      "\u001b[31mlabel\n",
      "0    54077\n",
      "1     5923\n",
      "Name: count, dtype: int64\u001b[0m\n",
      "\u001b[1m\u001b[32m\n",
      "Label 1 count: 6742\u001b[0m\n",
      "------------------------------------------------------------\n",
      "\u001b[35m                                               image label\n",
      "0  [[0, 0, 0, 0, 0, 0, 0, 0, 0, 0, 0, 0, 0, 0, 0,...     0\n",
      "1  [[0, 0, 0, 0, 0, 0, 0, 0, 0, 0, 0, 0, 0, 0, 0,...     0\n",
      "2  [[0, 0, 0, 0, 0, 0, 0, 0, 0, 0, 0, 0, 0, 0, 0,...     0\n",
      "3  [[0, 0, 0, 0, 0, 0, 0, 0, 0, 0, 0, 0, 0, 0, 0,...     1\n",
      "4  [[0, 0, 0, 0, 0, 0, 0, 0, 0, 0, 0, 0, 0, 0, 0,...     0\u001b[0m\n",
      "\u001b[31mlabel\n",
      "0    53258\n",
      "1     6742\n",
      "Name: count, dtype: int64\u001b[0m\n",
      "\u001b[1m\u001b[32m\n",
      "Label 2 count: 5958\u001b[0m\n",
      "------------------------------------------------------------\n",
      "\u001b[35m                                               image label\n",
      "0  [[0, 0, 0, 0, 0, 0, 0, 0, 0, 0, 0, 0, 0, 0, 0,...     0\n",
      "1  [[0, 0, 0, 0, 0, 0, 0, 0, 0, 0, 0, 0, 0, 0, 0,...     0\n",
      "2  [[0, 0, 0, 0, 0, 0, 0, 0, 0, 0, 0, 0, 0, 0, 0,...     0\n",
      "3  [[0, 0, 0, 0, 0, 0, 0, 0, 0, 0, 0, 0, 0, 0, 0,...     0\n",
      "4  [[0, 0, 0, 0, 0, 0, 0, 0, 0, 0, 0, 0, 0, 0, 0,...     0\u001b[0m\n",
      "\u001b[31mlabel\n",
      "0    54042\n",
      "1     5958\n",
      "Name: count, dtype: int64\u001b[0m\n",
      "\u001b[1m\u001b[32m\n",
      "Label 3 count: 6131\u001b[0m\n",
      "------------------------------------------------------------\n",
      "\u001b[35m                                               image label\n",
      "0  [[0, 0, 0, 0, 0, 0, 0, 0, 0, 0, 0, 0, 0, 0, 0,...     0\n",
      "1  [[0, 0, 0, 0, 0, 0, 0, 0, 0, 0, 0, 0, 0, 0, 0,...     0\n",
      "2  [[0, 0, 0, 0, 0, 0, 0, 0, 0, 0, 0, 0, 0, 0, 0,...     0\n",
      "3  [[0, 0, 0, 0, 0, 0, 0, 0, 0, 0, 0, 0, 0, 0, 0,...     0\n",
      "4  [[0, 0, 0, 0, 0, 0, 0, 0, 0, 0, 0, 0, 0, 0, 0,...     0\u001b[0m\n",
      "\u001b[31mlabel\n",
      "0    53869\n",
      "1     6131\n",
      "Name: count, dtype: int64\u001b[0m\n",
      "\u001b[1m\u001b[32m\n",
      "Label 4 count: 5842\u001b[0m\n",
      "------------------------------------------------------------\n",
      "\u001b[35m                                               image label\n",
      "0  [[0, 0, 0, 0, 0, 0, 0, 0, 0, 0, 0, 0, 0, 0, 0,...     0\n",
      "1  [[0, 0, 0, 0, 0, 0, 0, 0, 0, 0, 0, 0, 0, 0, 0,...     0\n",
      "2  [[0, 0, 0, 0, 0, 0, 0, 0, 0, 0, 0, 0, 0, 0, 0,...     1\n",
      "3  [[0, 0, 0, 0, 0, 0, 0, 0, 0, 0, 0, 0, 0, 0, 0,...     0\n",
      "4  [[0, 0, 0, 0, 0, 0, 0, 0, 0, 0, 0, 0, 0, 0, 0,...     0\u001b[0m\n",
      "\u001b[31mlabel\n",
      "0    54158\n",
      "1     5842\n",
      "Name: count, dtype: int64\u001b[0m\n",
      "\u001b[1m\u001b[32m\n",
      "Label 5 count: 5421\u001b[0m\n",
      "------------------------------------------------------------\n",
      "\u001b[35m                                               image label\n",
      "0  [[0, 0, 0, 0, 0, 0, 0, 0, 0, 0, 0, 0, 0, 0, 0,...     1\n",
      "1  [[0, 0, 0, 0, 0, 0, 0, 0, 0, 0, 0, 0, 0, 0, 0,...     0\n",
      "2  [[0, 0, 0, 0, 0, 0, 0, 0, 0, 0, 0, 0, 0, 0, 0,...     0\n",
      "3  [[0, 0, 0, 0, 0, 0, 0, 0, 0, 0, 0, 0, 0, 0, 0,...     0\n",
      "4  [[0, 0, 0, 0, 0, 0, 0, 0, 0, 0, 0, 0, 0, 0, 0,...     0\u001b[0m\n",
      "\u001b[31mlabel\n",
      "0    54579\n",
      "1     5421\n",
      "Name: count, dtype: int64\u001b[0m\n",
      "\u001b[1m\u001b[32m\n",
      "Label 6 count: 5918\u001b[0m\n",
      "------------------------------------------------------------\n",
      "\u001b[35m                                               image label\n",
      "0  [[0, 0, 0, 0, 0, 0, 0, 0, 0, 0, 0, 0, 0, 0, 0,...     0\n",
      "1  [[0, 0, 0, 0, 0, 0, 0, 0, 0, 0, 0, 0, 0, 0, 0,...     0\n",
      "2  [[0, 0, 0, 0, 0, 0, 0, 0, 0, 0, 0, 0, 0, 0, 0,...     0\n",
      "3  [[0, 0, 0, 0, 0, 0, 0, 0, 0, 0, 0, 0, 0, 0, 0,...     0\n",
      "4  [[0, 0, 0, 0, 0, 0, 0, 0, 0, 0, 0, 0, 0, 0, 0,...     0\u001b[0m\n",
      "\u001b[31mlabel\n",
      "0    54082\n",
      "1     5918\n",
      "Name: count, dtype: int64\u001b[0m\n",
      "\u001b[1m\u001b[32m\n",
      "Label 7 count: 6265\u001b[0m\n",
      "------------------------------------------------------------\n",
      "\u001b[35m                                               image label\n",
      "0  [[0, 0, 0, 0, 0, 0, 0, 0, 0, 0, 0, 0, 0, 0, 0,...     0\n",
      "1  [[0, 0, 0, 0, 0, 0, 0, 0, 0, 0, 0, 0, 0, 0, 0,...     0\n",
      "2  [[0, 0, 0, 0, 0, 0, 0, 0, 0, 0, 0, 0, 0, 0, 0,...     0\n",
      "3  [[0, 0, 0, 0, 0, 0, 0, 0, 0, 0, 0, 0, 0, 0, 0,...     0\n",
      "4  [[0, 0, 0, 0, 0, 0, 0, 0, 0, 0, 0, 0, 0, 0, 0,...     0\u001b[0m\n",
      "\u001b[31mlabel\n",
      "0    53735\n",
      "1     6265\n",
      "Name: count, dtype: int64\u001b[0m\n",
      "\u001b[1m\u001b[32m\n",
      "Label 8 count: 5851\u001b[0m\n",
      "------------------------------------------------------------\n",
      "\u001b[35m                                               image label\n",
      "0  [[0, 0, 0, 0, 0, 0, 0, 0, 0, 0, 0, 0, 0, 0, 0,...     0\n",
      "1  [[0, 0, 0, 0, 0, 0, 0, 0, 0, 0, 0, 0, 0, 0, 0,...     0\n",
      "2  [[0, 0, 0, 0, 0, 0, 0, 0, 0, 0, 0, 0, 0, 0, 0,...     0\n",
      "3  [[0, 0, 0, 0, 0, 0, 0, 0, 0, 0, 0, 0, 0, 0, 0,...     0\n",
      "4  [[0, 0, 0, 0, 0, 0, 0, 0, 0, 0, 0, 0, 0, 0, 0,...     0\u001b[0m\n",
      "\u001b[31mlabel\n",
      "0    54149\n",
      "1     5851\n",
      "Name: count, dtype: int64\u001b[0m\n",
      "\u001b[1m\u001b[32m\n",
      "Label 9 count: 5949\u001b[0m\n",
      "------------------------------------------------------------\n",
      "\u001b[35m                                               image label\n",
      "0  [[0, 0, 0, 0, 0, 0, 0, 0, 0, 0, 0, 0, 0, 0, 0,...     0\n",
      "1  [[0, 0, 0, 0, 0, 0, 0, 0, 0, 0, 0, 0, 0, 0, 0,...     0\n",
      "2  [[0, 0, 0, 0, 0, 0, 0, 0, 0, 0, 0, 0, 0, 0, 0,...     0\n",
      "3  [[0, 0, 0, 0, 0, 0, 0, 0, 0, 0, 0, 0, 0, 0, 0,...     0\n",
      "4  [[0, 0, 0, 0, 0, 0, 0, 0, 0, 0, 0, 0, 0, 0, 0,...     1\u001b[0m\n",
      "\u001b[31mlabel\n",
      "0    54051\n",
      "1     5949\n",
      "Name: count, dtype: int64\u001b[0m\n"
     ]
    }
   ],
   "source": [
    "df_list = []\n",
    "for i in training_df[\"label\"].sort_values().unique():\n",
    "    cprint(\n",
    "        f\"\\nLabel {i} count: {len(training_df[training_df['label'] == i])}\",\n",
    "        \"green\",\n",
    "        attrs=[\"bold\"],\n",
    "        end=\"\\n\" + \"-\" * 60 + \"\\n\",\n",
    "    )\n",
    "    exec(f\"training_df_{i} = deepcopy(training_df)\")\n",
    "    exec(f\"training_df_{i}.loc[training_df_{i}['label'] != i, 'label'] = 0\")\n",
    "    exec(f\"training_df_{i}.loc[training_df_{i}['label'] == i, 'label'] = 1\")\n",
    "    exec(f\"cprint(training_df_{i}.head(), 'magenta')\")\n",
    "    exec(f\"cprint(training_df_{i}['label'].value_counts()\\n, 'red')\")\n",
    "    exec(f\"df_list.append(training_df_{i})\")"
   ]
  },
  {
   "cell_type": "code",
   "execution_count": 12,
   "metadata": {},
   "outputs": [
    {
     "data": {
      "text/plain": [
       "{'0':                                                    image label\n",
       " 0      [[0, 0, 0, 0, 0, 0, 0, 0, 0, 0, 0, 0, 0, 0, 0,...     0\n",
       " 1      [[0, 0, 0, 0, 0, 0, 0, 0, 0, 0, 0, 0, 0, 0, 0,...     1\n",
       " 2      [[0, 0, 0, 0, 0, 0, 0, 0, 0, 0, 0, 0, 0, 0, 0,...     0\n",
       " 3      [[0, 0, 0, 0, 0, 0, 0, 0, 0, 0, 0, 0, 0, 0, 0,...     0\n",
       " 4      [[0, 0, 0, 0, 0, 0, 0, 0, 0, 0, 0, 0, 0, 0, 0,...     0\n",
       " ...                                                  ...   ...\n",
       " 59995  [[0, 0, 0, 0, 0, 0, 0, 0, 0, 0, 0, 0, 0, 0, 0,...     0\n",
       " 59996  [[0, 0, 0, 0, 0, 0, 0, 0, 0, 0, 0, 0, 0, 0, 0,...     0\n",
       " 59997  [[0, 0, 0, 0, 0, 0, 0, 0, 0, 0, 0, 0, 0, 0, 0,...     0\n",
       " 59998  [[0, 0, 0, 0, 0, 0, 0, 0, 0, 0, 0, 0, 0, 0, 0,...     0\n",
       " 59999  [[0, 0, 0, 0, 0, 0, 0, 0, 0, 0, 0, 0, 0, 0, 0,...     0\n",
       " \n",
       " [60000 rows x 2 columns],\n",
       " '1':                                                    image label\n",
       " 0      [[0, 0, 0, 0, 0, 0, 0, 0, 0, 0, 0, 0, 0, 0, 0,...     0\n",
       " 1      [[0, 0, 0, 0, 0, 0, 0, 0, 0, 0, 0, 0, 0, 0, 0,...     0\n",
       " 2      [[0, 0, 0, 0, 0, 0, 0, 0, 0, 0, 0, 0, 0, 0, 0,...     0\n",
       " 3      [[0, 0, 0, 0, 0, 0, 0, 0, 0, 0, 0, 0, 0, 0, 0,...     1\n",
       " 4      [[0, 0, 0, 0, 0, 0, 0, 0, 0, 0, 0, 0, 0, 0, 0,...     0\n",
       " ...                                                  ...   ...\n",
       " 59995  [[0, 0, 0, 0, 0, 0, 0, 0, 0, 0, 0, 0, 0, 0, 0,...     0\n",
       " 59996  [[0, 0, 0, 0, 0, 0, 0, 0, 0, 0, 0, 0, 0, 0, 0,...     0\n",
       " 59997  [[0, 0, 0, 0, 0, 0, 0, 0, 0, 0, 0, 0, 0, 0, 0,...     0\n",
       " 59998  [[0, 0, 0, 0, 0, 0, 0, 0, 0, 0, 0, 0, 0, 0, 0,...     0\n",
       " 59999  [[0, 0, 0, 0, 0, 0, 0, 0, 0, 0, 0, 0, 0, 0, 0,...     0\n",
       " \n",
       " [60000 rows x 2 columns],\n",
       " '2':                                                    image label\n",
       " 0      [[0, 0, 0, 0, 0, 0, 0, 0, 0, 0, 0, 0, 0, 0, 0,...     0\n",
       " 1      [[0, 0, 0, 0, 0, 0, 0, 0, 0, 0, 0, 0, 0, 0, 0,...     0\n",
       " 2      [[0, 0, 0, 0, 0, 0, 0, 0, 0, 0, 0, 0, 0, 0, 0,...     0\n",
       " 3      [[0, 0, 0, 0, 0, 0, 0, 0, 0, 0, 0, 0, 0, 0, 0,...     0\n",
       " 4      [[0, 0, 0, 0, 0, 0, 0, 0, 0, 0, 0, 0, 0, 0, 0,...     0\n",
       " ...                                                  ...   ...\n",
       " 59995  [[0, 0, 0, 0, 0, 0, 0, 0, 0, 0, 0, 0, 0, 0, 0,...     0\n",
       " 59996  [[0, 0, 0, 0, 0, 0, 0, 0, 0, 0, 0, 0, 0, 0, 0,...     0\n",
       " 59997  [[0, 0, 0, 0, 0, 0, 0, 0, 0, 0, 0, 0, 0, 0, 0,...     0\n",
       " 59998  [[0, 0, 0, 0, 0, 0, 0, 0, 0, 0, 0, 0, 0, 0, 0,...     0\n",
       " 59999  [[0, 0, 0, 0, 0, 0, 0, 0, 0, 0, 0, 0, 0, 0, 0,...     0\n",
       " \n",
       " [60000 rows x 2 columns],\n",
       " '3':                                                    image label\n",
       " 0      [[0, 0, 0, 0, 0, 0, 0, 0, 0, 0, 0, 0, 0, 0, 0,...     0\n",
       " 1      [[0, 0, 0, 0, 0, 0, 0, 0, 0, 0, 0, 0, 0, 0, 0,...     0\n",
       " 2      [[0, 0, 0, 0, 0, 0, 0, 0, 0, 0, 0, 0, 0, 0, 0,...     0\n",
       " 3      [[0, 0, 0, 0, 0, 0, 0, 0, 0, 0, 0, 0, 0, 0, 0,...     0\n",
       " 4      [[0, 0, 0, 0, 0, 0, 0, 0, 0, 0, 0, 0, 0, 0, 0,...     0\n",
       " ...                                                  ...   ...\n",
       " 59995  [[0, 0, 0, 0, 0, 0, 0, 0, 0, 0, 0, 0, 0, 0, 0,...     0\n",
       " 59996  [[0, 0, 0, 0, 0, 0, 0, 0, 0, 0, 0, 0, 0, 0, 0,...     1\n",
       " 59997  [[0, 0, 0, 0, 0, 0, 0, 0, 0, 0, 0, 0, 0, 0, 0,...     0\n",
       " 59998  [[0, 0, 0, 0, 0, 0, 0, 0, 0, 0, 0, 0, 0, 0, 0,...     0\n",
       " 59999  [[0, 0, 0, 0, 0, 0, 0, 0, 0, 0, 0, 0, 0, 0, 0,...     0\n",
       " \n",
       " [60000 rows x 2 columns],\n",
       " '4':                                                    image label\n",
       " 0      [[0, 0, 0, 0, 0, 0, 0, 0, 0, 0, 0, 0, 0, 0, 0,...     0\n",
       " 1      [[0, 0, 0, 0, 0, 0, 0, 0, 0, 0, 0, 0, 0, 0, 0,...     0\n",
       " 2      [[0, 0, 0, 0, 0, 0, 0, 0, 0, 0, 0, 0, 0, 0, 0,...     1\n",
       " 3      [[0, 0, 0, 0, 0, 0, 0, 0, 0, 0, 0, 0, 0, 0, 0,...     0\n",
       " 4      [[0, 0, 0, 0, 0, 0, 0, 0, 0, 0, 0, 0, 0, 0, 0,...     0\n",
       " ...                                                  ...   ...\n",
       " 59995  [[0, 0, 0, 0, 0, 0, 0, 0, 0, 0, 0, 0, 0, 0, 0,...     0\n",
       " 59996  [[0, 0, 0, 0, 0, 0, 0, 0, 0, 0, 0, 0, 0, 0, 0,...     0\n",
       " 59997  [[0, 0, 0, 0, 0, 0, 0, 0, 0, 0, 0, 0, 0, 0, 0,...     0\n",
       " 59998  [[0, 0, 0, 0, 0, 0, 0, 0, 0, 0, 0, 0, 0, 0, 0,...     0\n",
       " 59999  [[0, 0, 0, 0, 0, 0, 0, 0, 0, 0, 0, 0, 0, 0, 0,...     0\n",
       " \n",
       " [60000 rows x 2 columns],\n",
       " '5':                                                    image label\n",
       " 0      [[0, 0, 0, 0, 0, 0, 0, 0, 0, 0, 0, 0, 0, 0, 0,...     1\n",
       " 1      [[0, 0, 0, 0, 0, 0, 0, 0, 0, 0, 0, 0, 0, 0, 0,...     0\n",
       " 2      [[0, 0, 0, 0, 0, 0, 0, 0, 0, 0, 0, 0, 0, 0, 0,...     0\n",
       " 3      [[0, 0, 0, 0, 0, 0, 0, 0, 0, 0, 0, 0, 0, 0, 0,...     0\n",
       " 4      [[0, 0, 0, 0, 0, 0, 0, 0, 0, 0, 0, 0, 0, 0, 0,...     0\n",
       " ...                                                  ...   ...\n",
       " 59995  [[0, 0, 0, 0, 0, 0, 0, 0, 0, 0, 0, 0, 0, 0, 0,...     0\n",
       " 59996  [[0, 0, 0, 0, 0, 0, 0, 0, 0, 0, 0, 0, 0, 0, 0,...     0\n",
       " 59997  [[0, 0, 0, 0, 0, 0, 0, 0, 0, 0, 0, 0, 0, 0, 0,...     1\n",
       " 59998  [[0, 0, 0, 0, 0, 0, 0, 0, 0, 0, 0, 0, 0, 0, 0,...     0\n",
       " 59999  [[0, 0, 0, 0, 0, 0, 0, 0, 0, 0, 0, 0, 0, 0, 0,...     0\n",
       " \n",
       " [60000 rows x 2 columns],\n",
       " '6':                                                    image label\n",
       " 0      [[0, 0, 0, 0, 0, 0, 0, 0, 0, 0, 0, 0, 0, 0, 0,...     0\n",
       " 1      [[0, 0, 0, 0, 0, 0, 0, 0, 0, 0, 0, 0, 0, 0, 0,...     0\n",
       " 2      [[0, 0, 0, 0, 0, 0, 0, 0, 0, 0, 0, 0, 0, 0, 0,...     0\n",
       " 3      [[0, 0, 0, 0, 0, 0, 0, 0, 0, 0, 0, 0, 0, 0, 0,...     0\n",
       " 4      [[0, 0, 0, 0, 0, 0, 0, 0, 0, 0, 0, 0, 0, 0, 0,...     0\n",
       " ...                                                  ...   ...\n",
       " 59995  [[0, 0, 0, 0, 0, 0, 0, 0, 0, 0, 0, 0, 0, 0, 0,...     0\n",
       " 59996  [[0, 0, 0, 0, 0, 0, 0, 0, 0, 0, 0, 0, 0, 0, 0,...     0\n",
       " 59997  [[0, 0, 0, 0, 0, 0, 0, 0, 0, 0, 0, 0, 0, 0, 0,...     0\n",
       " 59998  [[0, 0, 0, 0, 0, 0, 0, 0, 0, 0, 0, 0, 0, 0, 0,...     1\n",
       " 59999  [[0, 0, 0, 0, 0, 0, 0, 0, 0, 0, 0, 0, 0, 0, 0,...     0\n",
       " \n",
       " [60000 rows x 2 columns],\n",
       " '7':                                                    image label\n",
       " 0      [[0, 0, 0, 0, 0, 0, 0, 0, 0, 0, 0, 0, 0, 0, 0,...     0\n",
       " 1      [[0, 0, 0, 0, 0, 0, 0, 0, 0, 0, 0, 0, 0, 0, 0,...     0\n",
       " 2      [[0, 0, 0, 0, 0, 0, 0, 0, 0, 0, 0, 0, 0, 0, 0,...     0\n",
       " 3      [[0, 0, 0, 0, 0, 0, 0, 0, 0, 0, 0, 0, 0, 0, 0,...     0\n",
       " 4      [[0, 0, 0, 0, 0, 0, 0, 0, 0, 0, 0, 0, 0, 0, 0,...     0\n",
       " ...                                                  ...   ...\n",
       " 59995  [[0, 0, 0, 0, 0, 0, 0, 0, 0, 0, 0, 0, 0, 0, 0,...     0\n",
       " 59996  [[0, 0, 0, 0, 0, 0, 0, 0, 0, 0, 0, 0, 0, 0, 0,...     0\n",
       " 59997  [[0, 0, 0, 0, 0, 0, 0, 0, 0, 0, 0, 0, 0, 0, 0,...     0\n",
       " 59998  [[0, 0, 0, 0, 0, 0, 0, 0, 0, 0, 0, 0, 0, 0, 0,...     0\n",
       " 59999  [[0, 0, 0, 0, 0, 0, 0, 0, 0, 0, 0, 0, 0, 0, 0,...     0\n",
       " \n",
       " [60000 rows x 2 columns],\n",
       " '8':                                                    image label\n",
       " 0      [[0, 0, 0, 0, 0, 0, 0, 0, 0, 0, 0, 0, 0, 0, 0,...     0\n",
       " 1      [[0, 0, 0, 0, 0, 0, 0, 0, 0, 0, 0, 0, 0, 0, 0,...     0\n",
       " 2      [[0, 0, 0, 0, 0, 0, 0, 0, 0, 0, 0, 0, 0, 0, 0,...     0\n",
       " 3      [[0, 0, 0, 0, 0, 0, 0, 0, 0, 0, 0, 0, 0, 0, 0,...     0\n",
       " 4      [[0, 0, 0, 0, 0, 0, 0, 0, 0, 0, 0, 0, 0, 0, 0,...     0\n",
       " ...                                                  ...   ...\n",
       " 59995  [[0, 0, 0, 0, 0, 0, 0, 0, 0, 0, 0, 0, 0, 0, 0,...     1\n",
       " 59996  [[0, 0, 0, 0, 0, 0, 0, 0, 0, 0, 0, 0, 0, 0, 0,...     0\n",
       " 59997  [[0, 0, 0, 0, 0, 0, 0, 0, 0, 0, 0, 0, 0, 0, 0,...     0\n",
       " 59998  [[0, 0, 0, 0, 0, 0, 0, 0, 0, 0, 0, 0, 0, 0, 0,...     0\n",
       " 59999  [[0, 0, 0, 0, 0, 0, 0, 0, 0, 0, 0, 0, 0, 0, 0,...     1\n",
       " \n",
       " [60000 rows x 2 columns],\n",
       " '9':                                                    image label\n",
       " 0      [[0, 0, 0, 0, 0, 0, 0, 0, 0, 0, 0, 0, 0, 0, 0,...     0\n",
       " 1      [[0, 0, 0, 0, 0, 0, 0, 0, 0, 0, 0, 0, 0, 0, 0,...     0\n",
       " 2      [[0, 0, 0, 0, 0, 0, 0, 0, 0, 0, 0, 0, 0, 0, 0,...     0\n",
       " 3      [[0, 0, 0, 0, 0, 0, 0, 0, 0, 0, 0, 0, 0, 0, 0,...     0\n",
       " 4      [[0, 0, 0, 0, 0, 0, 0, 0, 0, 0, 0, 0, 0, 0, 0,...     1\n",
       " ...                                                  ...   ...\n",
       " 59995  [[0, 0, 0, 0, 0, 0, 0, 0, 0, 0, 0, 0, 0, 0, 0,...     0\n",
       " 59996  [[0, 0, 0, 0, 0, 0, 0, 0, 0, 0, 0, 0, 0, 0, 0,...     0\n",
       " 59997  [[0, 0, 0, 0, 0, 0, 0, 0, 0, 0, 0, 0, 0, 0, 0,...     0\n",
       " 59998  [[0, 0, 0, 0, 0, 0, 0, 0, 0, 0, 0, 0, 0, 0, 0,...     0\n",
       " 59999  [[0, 0, 0, 0, 0, 0, 0, 0, 0, 0, 0, 0, 0, 0, 0,...     0\n",
       " \n",
       " [60000 rows x 2 columns]}"
      ]
     },
     "execution_count": 12,
     "metadata": {},
     "output_type": "execute_result"
    }
   ],
   "source": [
    "key_list = [str(int(i)) for i in list(training_df[\"label\"].sort_values().unique())]\n",
    "df_dict = dict(zip(key_list, df_list))\n",
    "df_dict"
   ]
  },
  {
   "cell_type": "code",
   "execution_count": 13,
   "metadata": {
    "colab": {
     "base_uri": "https://localhost:8080/"
    },
    "outputId": "67d01ab4-cdd9-4661-8f01-eaa9aabf786d"
   },
   "outputs": [
    {
     "name": "stdout",
     "output_type": "stream",
     "text": [
      "\u001b[32mMPS is available\u001b[0m\n"
     ]
    }
   ],
   "source": [
    "if torch.backends.mps.is_available():\n",
    "    cprint(\"MPS is available\", \"green\")\n",
    "    device = torch.device(\"mps:0\")\n",
    "elif torch.backends.cuda.is_available():\n",
    "    cprint(\"CUDA is available\", \"green\")\n",
    "    device = torch.device(\"cuda:0\")\n",
    "elif torch.backends.cudnn.is_built():\n",
    "    cprint(\"CUDNN is available\", \"green\")\n",
    "    device = torch.device(\"cuda:0\")\n",
    "else:\n",
    "    cprint(\"CUDA and MPS are not available\", \"red\")\n",
    "    cprint(\"Using CPU\", \"red\")\n",
    "    device = torch.device(\"cpu\")"
   ]
  },
  {
   "cell_type": "code",
   "execution_count": 14,
   "metadata": {},
   "outputs": [],
   "source": [
    "class NetOVA(nn.Module):\n",
    "    def __init__(self):\n",
    "        super(NetOVA, self).__init__()\n",
    "        self.conv1 = nn.Conv2d(1, 10, kernel_size=5)\n",
    "        self.conv2 = nn.Conv2d(10, 20, kernel_size=5)\n",
    "        self.conv2_drop = nn.Dropout2d()\n",
    "        self.fc1 = nn.Linear(320, 50)\n",
    "        self.fc2 = nn.Linear(50, 10)\n",
    "        self.fc3 = nn.Linear(10, 1)\n",
    "\n",
    "    def forward(self, x):\n",
    "        x = F.relu(F.max_pool2d(self.conv1(x), 2))\n",
    "        x = F.relu(F.max_pool2d(self.conv2_drop(self.conv2(x)), 2))\n",
    "        x = x.view(-1, 320)\n",
    "        x = F.relu(self.fc1(x))\n",
    "        x = F.dropout(x, training=self.training)\n",
    "        x = self.fc2(x)\n",
    "        x = self.fc3(x)\n",
    "        return F.log_softmax(x, dim=1)"
   ]
  },
  {
   "cell_type": "code",
   "execution_count": 15,
   "metadata": {},
   "outputs": [
    {
     "name": "stdout",
     "output_type": "stream",
     "text": [
      "----------------------------------------------------------------\n",
      "        Layer (type)               Output Shape         Param #\n",
      "================================================================\n",
      "            Conv2d-1           [-1, 10, 24, 24]             260\n",
      "            Conv2d-2             [-1, 20, 8, 8]           5,020\n",
      "         Dropout2d-3             [-1, 20, 8, 8]               0\n",
      "            Linear-4                   [-1, 50]          16,050\n",
      "            Linear-5                   [-1, 10]             510\n",
      "            Linear-6                    [-1, 1]              11\n",
      "================================================================\n",
      "Total params: 21,851\n",
      "Trainable params: 21,851\n",
      "Non-trainable params: 0\n",
      "----------------------------------------------------------------\n",
      "Input size (MB): 0.00\n",
      "Forward/backward pass size (MB): 0.06\n",
      "Params size (MB): 0.08\n",
      "Estimated Total Size (MB): 0.15\n",
      "----------------------------------------------------------------\n"
     ]
    }
   ],
   "source": [
    "torch.manual_seed(0)\n",
    "model = NetOVA()\n",
    "summary(model, next(iter(training_dataset))[0].shape)"
   ]
  },
  {
   "cell_type": "code",
   "execution_count": 16,
   "metadata": {},
   "outputs": [],
   "source": [
    "learning_rate = 0.001\n",
    "criterion = nn.CrossEntropyLoss()\n",
    "optimizer = torch.optim.Adam(model.parameters(), lr=learning_rate)"
   ]
  },
  {
   "cell_type": "code",
   "execution_count": 17,
   "metadata": {},
   "outputs": [
    {
     "name": "stderr",
     "output_type": "stream",
     "text": [
      "/var/folders/14/8cfdj8xx3cz4cvvswzmnv11w0000gn/T/ipykernel_17411/2276598683.py:3: UserWarning: Creating a tensor from a list of numpy.ndarrays is extremely slow. Please consider converting the list to a single numpy.ndarray with numpy.array() before converting to a tensor. (Triggered internally at /Users/runner/work/pytorch/pytorch/pytorch/torch/csrc/utils/tensor_new.cpp:257.)\n",
      "  torch.tensor(training_df_0[\"image\"].tolist()).float(),\n"
     ]
    }
   ],
   "source": [
    "model = NetOVA().to(device)\n",
    "training_dataset_0 = TensorDataset(\n",
    "    torch.tensor(training_df_0[\"image\"].tolist()).float(),\n",
    "    torch.tensor(training_df_0[\"label\"].tolist()).float(),\n",
    ")\n",
    "\n",
    "training_loader_0 = DataLoader(\n",
    "    training_dataset_0, batch_size=100, shuffle=True\n",
    ")\n",
    "\n",
    "validation_loader = DataLoader(\n",
    "    validation_dataset, batch_size=500, shuffle=False\n",
    ")"
   ]
  },
  {
   "cell_type": "code",
   "execution_count": null,
   "metadata": {},
   "outputs": [],
   "source": [
    "for batch in training_loader_0:\n",
    "    images, labels = batch[0].to(device), batch[1].to(device)\n",
    "    images = images.view(-1, 1, 28, 28)\n",
    "    labels = labels.view(-1, 1)\n",
    "    labels = labels.squeeze()\n",
    "    optimizer.zero_grad()\n",
    "    outputs = model(images)\n",
    "    loss = criterion(outputs, labels)\n",
    "    loss.backward()\n",
    "    optimizer.step()"
   ]
  },
  {
   "cell_type": "code",
   "execution_count": null,
   "metadata": {},
   "outputs": [],
   "source": [
    "states_list = []\n",
    "for i in training_df[\"label\"].sort_values().unique():\n",
    "    exec(f\"model_{i} = NetOVA().to(device)\")\n",
    "    exec(f\"states_list.append(model_{i}.state_dict())\")\n",
    "\n",
    "key_list = [str(int(i)) for i in list(training_df[\"label\"].sort_values().unique())]\n",
    "states_dict = dict(zip(key_list, states_list))\n",
    "\n",
    "states_dict[\"0\"].keys(), states_dict[\"0\"].values()"
   ]
  },
  {
   "cell_type": "code",
   "execution_count": null,
   "metadata": {},
   "outputs": [],
   "source": [
    "epochs = 5\n",
    "for _ in range(epochs):\n",
    "    for i, (df, key, state) in enumerate(\n",
    "        zip(df_list, states_dict.keys(), states_dict.values())\n",
    "    ):\n",
    "        model.load_state_dict(state)\n",
    "        model.eval()\n",
    "        training_dataset_tmp = TensorDataset(\n",
    "            torch.tensor(df[\"image\"].tolist()).float(),\n",
    "            torch.tensor(df[\"label\"].tolist()).float(),\n",
    "        )\n",
    "\n",
    "        training_loader_tmp = DataLoader(\n",
    "            training_dataset_tmp, batch_size=100, shuffle=True\n",
    "        )\n",
    "\n",
    "        for batch in training_loader_tmp:\n",
    "            images, labels = batch[0].to(device), batch[1].to(device)\n",
    "            images = images.view(-1, 1, 28, 28)\n",
    "            labels = labels.view(-1, 1)\n",
    "            labels = labels.squeeze()\n",
    "            optimizer.zero_grad()\n",
    "            outputs = model(images)\n",
    "            loss = criterion(outputs, labels)\n",
    "            loss.backward()\n",
    "            optimizer.step()\n",
    "\n",
    "        states_dict[key] = model.state_dict()"
   ]
  },
  {
   "cell_type": "code",
   "execution_count": null,
   "metadata": {},
   "outputs": [],
   "source": [
    "for key, state in states_dict.items():\n",
    "    with torch.no_grad():\n",
    "        for val_images, val_labels in validation_loader:\n",
    "            model.load_state_dict(state)\n",
    "            val_images = val_images.to(device)\n",
    "            val_labels = val_labels.to(device)\n",
    "            val_outputs = model(val_images)\n",
    "            val_loss = criterion(val_outputs, val_labels)\n",
    "            #_, val_preds = torch.max(val_outputs, 1)\n",
    "            print(max(val_outputs))\n",
    "            \n",
    "            \n",
    "            \n",
    "            \n",
    "            \n",
    "                # val_running_loss += val_loss.item()\n",
    "                # val_running_acc += torch.sum(val_preds == val_labels.data)"
   ]
  },
  {
   "cell_type": "code",
   "execution_count": null,
   "metadata": {},
   "outputs": [],
   "source": [
    "states_dict[\"0\"].keys(), states_dict[\"0\"].values()"
   ]
  },
  {
   "cell_type": "code",
   "execution_count": null,
   "metadata": {},
   "outputs": [],
   "source": [
    "epochs = 5\n",
    "for i in training_df[\"label\"].sort_values().unique():\n",
    "    cprint(\n",
    "        f\"\\nLabel {i} count: {len(training_df[training_df['label'] == i])}\",\n",
    "        \"green\",\n",
    "        attrs=[\"bold\"],\n",
    "        end=\"\\n\" + \"-\" * 60 + \"\\n\",\n",
    "    )\n",
    "    exec(f\"training_df_{i} = deepcopy(training_df)\")\n",
    "    exec(f\"training_df_{i}.loc[training_df_{i}['label'] != i, 'label'] = 0\")\n",
    "    exec(f\"cprint(training_df_{i}.head(), 'magenta')\")\n",
    "    exec(f\"cprint(training_df_{i}['label'].value_counts()\\n, 'red')\")\n",
    "for e in range(epochs):\n",
    "    running_loss = 0.0\n",
    "    \n",
    "    running_acc = 0\n",
    "    val_running_loss = 0.0\n",
    "    val_running_acc = 0\n",
    "\n",
    "    for batch in training_loader_0:\n",
    "        images, labels = batch[0].to(device), batch[1].to(device)\n",
    "        images = images.view(-1, 1, 28, 28)\n",
    "        labels = labels.view(-1, 1)\n",
    "        labels = labels.squeeze()\n",
    "        optimizer.zero_grad()\n",
    "        outputs = model(images)\n",
    "        loss = criterion(outputs, labels)\n",
    "        loss.backward()\n",
    "        optimizer.step()\n",
    "\n",
    "\n",
    "\n",
    "\n",
    "    else:\n",
    "        with torch.no_grad():\n",
    "            for val_images, val_labels in validation_loader:\n",
    "                val_images = val_images.to(device)\n",
    "                val_labels = val_labels.to(device)\n",
    "                val_outputs = model(val_images)\n",
    "                val_loss = criterion(val_outputs, val_labels)\n",
    "\n",
    "\n",
    "\n",
    "\n",
    "                _, val_preds = torch.max(val_outputs, 1)\n",
    "                val_running_loss += val_loss.item()\n",
    "                val_running_acc += torch.sum(val_preds == val_labels.data)\n",
    "\n",
    "        epoch_loss = running_loss / len(training_loader)\n",
    "        epoch_acc = running_acc.float() / len(training_loader)\n",
    "        running_loss_history.append(epoch_loss)\n",
    "        running_acc_history.append(epoch_acc.item())\n",
    "\n",
    "        val_epoch_loss = val_running_loss / len(validation_loader)\n",
    "        val_epoch_acc = val_running_acc.float() / len(validation_loader)\n",
    "        val_running_loss_history.append(val_epoch_loss)\n",
    "        val_running_acc_history.append(val_epoch_acc.item())\n",
    "\n",
    "        dataframe.updater(\n",
    "            e + 1, epoch_loss, epoch_acc.item(), val_epoch_loss, val_epoch_acc.item()\n",
    "        )\n",
    "\n",
    "tabulation = Form_Generator()\n",
    "tabulation.heading_printer(\n",
    "    \"Training and testing of custom convolutional neural module class of \"\n",
    "    \"LeNet structure\"\n",
    ")\n"
   ]
  },
  {
   "cell_type": "code",
   "execution_count": null,
   "metadata": {},
   "outputs": [],
   "source": [
    "training_loader = torch.utils.data.DataLoader(\n",
    "    training_dataset, batch_size=100, shuffle=True\n",
    ")\n",
    "\n",
    "validation_loader = torch.utils.data.DataLoader(\n",
    "    validation_dataset, batch_size=100, shuffle=False\n",
    ")"
   ]
  },
  {
   "cell_type": "code",
   "execution_count": null,
   "metadata": {},
   "outputs": [],
   "source": [
    "for inputs, labels in training_loader:\n",
    "    inputs = inputs.to(device)\n",
    "    print(inputs.shape)\n",
    "    labels = labels.to(device)\n",
    "    print(labels.shape)\n",
    "    break"
   ]
  },
  {
   "cell_type": "code",
   "execution_count": null,
   "metadata": {},
   "outputs": [],
   "source": []
  }
 ],
 "metadata": {
  "colab": {
   "provenance": [],
   "toc_visible": true
  },
  "kernelspec": {
   "display_name": "venv-python3-11",
   "language": "python",
   "name": "python3"
  },
  "language_info": {
   "codemirror_mode": {
    "name": "ipython",
    "version": 3
   },
   "file_extension": ".py",
   "mimetype": "text/x-python",
   "name": "python",
   "nbconvert_exporter": "python",
   "pygments_lexer": "ipython3",
   "version": "3.11.11"
  }
 },
 "nbformat": 4,
 "nbformat_minor": 0
}
