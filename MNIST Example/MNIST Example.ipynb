{
 "cells": [
  {
   "cell_type": "markdown",
   "id": "5803c820",
   "metadata": {},
   "source": [
    "# Importation des bibliothèques\n",
    "\n",
    "## Importation des paquets ou modules de la bibliothèque OpenFL\n"
   ]
  },
  {
   "cell_type": "code",
   "execution_count": 1,
   "id": "57bb9674",
   "metadata": {},
   "outputs": [],
   "source": [
    "from openfl.experimental.workflow.interface import Aggregator, Collaborator, FLSpec\n",
    "from openfl.experimental.workflow.placement import aggregator, collaborator\n",
    "from openfl.experimental.workflow.runtime import LocalRuntime"
   ]
  },
  {
   "cell_type": "markdown",
   "id": "6a73f16c",
   "metadata": {},
   "source": [
    "## Importation des paquets ou modules de la bibliothèque PyTorch\n"
   ]
  },
  {
   "cell_type": "code",
   "execution_count": 2,
   "id": "654f9257-6315-47af-ad52-443d791dfff1",
   "metadata": {},
   "outputs": [],
   "source": [
    "import torch\n",
    "import torch.nn as nn\n",
    "import torch.nn.functional as F\n",
    "import torch.optim as optim\n",
    "\n",
    "import torchvision"
   ]
  },
  {
   "cell_type": "markdown",
   "id": "01d15028",
   "metadata": {},
   "source": [
    "## Importation d'autres paquets ou modules requis\n"
   ]
  },
  {
   "cell_type": "code",
   "execution_count": 3,
   "id": "62dc5d0a",
   "metadata": {},
   "outputs": [],
   "source": [
    "from copy import deepcopy\n",
    "\n",
    "import numpy as np"
   ]
  },
  {
   "cell_type": "markdown",
   "id": "5999e45f",
   "metadata": {},
   "source": [
    "# Téléchargement et normalisation des données\n"
   ]
  },
  {
   "cell_type": "code",
   "execution_count": null,
   "id": "a1cdcac2",
   "metadata": {},
   "outputs": [],
   "source": [
    "mnist_train = torchvision.datasets.MNIST(\n",
    "    \"/tmp/files/\",\n",
    "    train=True,\n",
    "    download=True,\n",
    "    transform=torchvision.transforms.Compose(\n",
    "        [\n",
    "            torchvision.transforms.ToTensor(),\n",
    "            # torchvision.transforms.Normalize(mean, std, inplace=False)\n",
    "            # Normalize a tensor image with mean and standard deviation.\n",
    "            # output[channel] = (input[channel] - mean[channel]) / std[channel]\n",
    "            torchvision.transforms.Normalize((0.1307,), (0.3081,)),\n",
    "        ]\n",
    "    ),\n",
    ")\n",
    "\n",
    "mnist_test = torchvision.datasets.MNIST(\n",
    "    \"/tmp/files/\",\n",
    "    train=False,\n",
    "    download=True,\n",
    "    transform=torchvision.transforms.Compose(\n",
    "        [\n",
    "            torchvision.transforms.ToTensor(),\n",
    "            torchvision.transforms.Normalize((0.1307,), (0.3081,)),\n",
    "        ]\n",
    "    ),\n",
    ")"
   ]
  },
  {
   "cell_type": "code",
   "execution_count": null,
   "id": "cba3007c",
   "metadata": {},
   "outputs": [],
   "source": []
  }
 ],
 "metadata": {
  "kernelspec": {
   "display_name": "Python 3 (ipykernel)",
   "language": "python",
   "name": "python3"
  },
  "language_info": {
   "codemirror_mode": {
    "name": "ipython",
    "version": 3
   },
   "file_extension": ".py",
   "mimetype": "text/x-python",
   "name": "python",
   "nbconvert_exporter": "python",
   "pygments_lexer": "ipython3",
   "version": "3.11.11"
  }
 },
 "nbformat": 4,
 "nbformat_minor": 5
}
